{
 "cells": [
  {
   "cell_type": "markdown",
   "id": "15b539ca",
   "metadata": {},
   "source": [
    "                                        DEVASHISH NALAPAREDDY - 1002162185\n",
    "                                        Haripranay Peddagolla- 1002168970\n",
    "                                        Roja Bobbala -         1002170073"
   ]
  },
  {
   "cell_type": "markdown",
   "id": "abb4bc4e",
   "metadata": {},
   "source": [
    "\n",
    "\n",
    "\n",
    "\n",
    "\n",
    "# Assignment 3 - Association Rule Mining"
   ]
  },
  {
   "cell_type": "markdown",
   "id": "69003b08",
   "metadata": {},
   "source": [
    "## Instructions"
   ]
  },
  {
   "cell_type": "markdown",
   "id": "a63f6c38",
   "metadata": {},
   "source": [
    "For the Third Assignment, we are going to be performing association rule mining with Apriori and FP-Growth algorithm.\n",
    "\n",
    "1. There are set of questions associated with each task for apriori and fp-growth respectively.\n",
    "2. The dataset used for whole assignment is same.\n",
    "3. Each Task is presenting a challenge."
   ]
  },
  {
   "cell_type": "markdown",
   "id": "985138ef",
   "metadata": {},
   "source": [
    "Data variable Descriptions:\n",
    "\n",
    "- InvoiceNo: Invoice Number -> If this code starts with C, it means that the operation has been canceled.\n",
    "- StockCode: Product Code -> Unique number for each product\n",
    "- Description: Product name\n",
    "- Quantity: Number of products -> how many of the products on the invoices were sold.\n",
    "- InvoiceDate\n",
    "- UnitePrice\n",
    "- CustomerID: Unique customer number\n",
    "- Country"
   ]
  },
  {
   "cell_type": "markdown",
   "id": "a365b901",
   "metadata": {},
   "source": [
    "Simply run the blow cell to load the dataset."
   ]
  },
  {
   "cell_type": "code",
   "execution_count": 406,
   "id": "ff383311",
   "metadata": {},
   "outputs": [
    {
     "data": {
      "text/html": [
       "<div>\n",
       "<style scoped>\n",
       "    .dataframe tbody tr th:only-of-type {\n",
       "        vertical-align: middle;\n",
       "    }\n",
       "\n",
       "    .dataframe tbody tr th {\n",
       "        vertical-align: top;\n",
       "    }\n",
       "\n",
       "    .dataframe thead th {\n",
       "        text-align: right;\n",
       "    }\n",
       "</style>\n",
       "<table border=\"1\" class=\"dataframe\">\n",
       "  <thead>\n",
       "    <tr style=\"text-align: right;\">\n",
       "      <th></th>\n",
       "      <th>Invoice</th>\n",
       "      <th>StockCode</th>\n",
       "      <th>Description</th>\n",
       "      <th>Quantity</th>\n",
       "      <th>InvoiceDate</th>\n",
       "      <th>Price</th>\n",
       "      <th>Customer ID</th>\n",
       "      <th>Country</th>\n",
       "    </tr>\n",
       "  </thead>\n",
       "  <tbody>\n",
       "    <tr>\n",
       "      <th>0</th>\n",
       "      <td>536365</td>\n",
       "      <td>85123A</td>\n",
       "      <td>WHITE HANGING HEART T-LIGHT HOLDER</td>\n",
       "      <td>6</td>\n",
       "      <td>12/1/2010 8:26</td>\n",
       "      <td>2.55</td>\n",
       "      <td>17850.0</td>\n",
       "      <td>United Kingdom</td>\n",
       "    </tr>\n",
       "    <tr>\n",
       "      <th>1</th>\n",
       "      <td>536365</td>\n",
       "      <td>71053</td>\n",
       "      <td>WHITE METAL LANTERN</td>\n",
       "      <td>6</td>\n",
       "      <td>12/1/2010 8:26</td>\n",
       "      <td>3.39</td>\n",
       "      <td>17850.0</td>\n",
       "      <td>United Kingdom</td>\n",
       "    </tr>\n",
       "    <tr>\n",
       "      <th>2</th>\n",
       "      <td>536365</td>\n",
       "      <td>84406B</td>\n",
       "      <td>CREAM CUPID HEARTS COAT HANGER</td>\n",
       "      <td>8</td>\n",
       "      <td>12/1/2010 8:26</td>\n",
       "      <td>2.75</td>\n",
       "      <td>17850.0</td>\n",
       "      <td>United Kingdom</td>\n",
       "    </tr>\n",
       "    <tr>\n",
       "      <th>3</th>\n",
       "      <td>536365</td>\n",
       "      <td>84029G</td>\n",
       "      <td>KNITTED UNION FLAG HOT WATER BOTTLE</td>\n",
       "      <td>6</td>\n",
       "      <td>12/1/2010 8:26</td>\n",
       "      <td>3.39</td>\n",
       "      <td>17850.0</td>\n",
       "      <td>United Kingdom</td>\n",
       "    </tr>\n",
       "    <tr>\n",
       "      <th>4</th>\n",
       "      <td>536365</td>\n",
       "      <td>84029E</td>\n",
       "      <td>RED WOOLLY HOTTIE WHITE HEART.</td>\n",
       "      <td>6</td>\n",
       "      <td>12/1/2010 8:26</td>\n",
       "      <td>3.39</td>\n",
       "      <td>17850.0</td>\n",
       "      <td>United Kingdom</td>\n",
       "    </tr>\n",
       "  </tbody>\n",
       "</table>\n",
       "</div>"
      ],
      "text/plain": [
       "  Invoice StockCode                          Description  Quantity  \\\n",
       "0  536365    85123A   WHITE HANGING HEART T-LIGHT HOLDER         6   \n",
       "1  536365     71053                  WHITE METAL LANTERN         6   \n",
       "2  536365    84406B       CREAM CUPID HEARTS COAT HANGER         8   \n",
       "3  536365    84029G  KNITTED UNION FLAG HOT WATER BOTTLE         6   \n",
       "4  536365    84029E       RED WOOLLY HOTTIE WHITE HEART.         6   \n",
       "\n",
       "      InvoiceDate  Price  Customer ID         Country  \n",
       "0  12/1/2010 8:26   2.55      17850.0  United Kingdom  \n",
       "1  12/1/2010 8:26   3.39      17850.0  United Kingdom  \n",
       "2  12/1/2010 8:26   2.75      17850.0  United Kingdom  \n",
       "3  12/1/2010 8:26   3.39      17850.0  United Kingdom  \n",
       "4  12/1/2010 8:26   3.39      17850.0  United Kingdom  "
      ]
     },
     "execution_count": 406,
     "metadata": {},
     "output_type": "execute_result"
    }
   ],
   "source": [
    "import pandas as pd\n",
    "\n",
    "data = pd.read_csv(\"Data_batch2.csv\", encoding= 'unicode_escape')\n",
    "data.head()"
   ]
  },
  {
   "cell_type": "markdown",
   "id": "e2c472ab",
   "metadata": {},
   "source": [
    "### Task A: 2 points\n",
    "\n",
    "1. Print data details\n",
    "2. Check for null values and solve them using best solution."
   ]
  },
  {
   "cell_type": "code",
   "execution_count": 407,
   "id": "2afd0d12",
   "metadata": {},
   "outputs": [
    {
     "name": "stdout",
     "output_type": "stream",
     "text": [
      "<class 'pandas.core.frame.DataFrame'>\n",
      "RangeIndex: 541910 entries, 0 to 541909\n",
      "Data columns (total 8 columns):\n",
      " #   Column       Non-Null Count   Dtype  \n",
      "---  ------       --------------   -----  \n",
      " 0   Invoice      541910 non-null  object \n",
      " 1   StockCode    541910 non-null  object \n",
      " 2   Description  540456 non-null  object \n",
      " 3   Quantity     541910 non-null  int64  \n",
      " 4   InvoiceDate  541910 non-null  object \n",
      " 5   Price        541910 non-null  float64\n",
      " 6   Customer ID  406830 non-null  float64\n",
      " 7   Country      541910 non-null  object \n",
      "dtypes: float64(2), int64(1), object(5)\n",
      "memory usage: 33.1+ MB\n"
     ]
    },
    {
     "data": {
      "text/plain": [
       "None"
      ]
     },
     "metadata": {},
     "output_type": "display_data"
    },
    {
     "data": {
      "text/html": [
       "<div>\n",
       "<style scoped>\n",
       "    .dataframe tbody tr th:only-of-type {\n",
       "        vertical-align: middle;\n",
       "    }\n",
       "\n",
       "    .dataframe tbody tr th {\n",
       "        vertical-align: top;\n",
       "    }\n",
       "\n",
       "    .dataframe thead th {\n",
       "        text-align: right;\n",
       "    }\n",
       "</style>\n",
       "<table border=\"1\" class=\"dataframe\">\n",
       "  <thead>\n",
       "    <tr style=\"text-align: right;\">\n",
       "      <th></th>\n",
       "      <th>Quantity</th>\n",
       "      <th>Price</th>\n",
       "      <th>Customer ID</th>\n",
       "    </tr>\n",
       "  </thead>\n",
       "  <tbody>\n",
       "    <tr>\n",
       "      <th>count</th>\n",
       "      <td>541910.000000</td>\n",
       "      <td>541910.000000</td>\n",
       "      <td>406830.000000</td>\n",
       "    </tr>\n",
       "    <tr>\n",
       "      <th>mean</th>\n",
       "      <td>9.552234</td>\n",
       "      <td>4.611138</td>\n",
       "      <td>15287.684160</td>\n",
       "    </tr>\n",
       "    <tr>\n",
       "      <th>std</th>\n",
       "      <td>218.080957</td>\n",
       "      <td>96.759765</td>\n",
       "      <td>1713.603074</td>\n",
       "    </tr>\n",
       "    <tr>\n",
       "      <th>min</th>\n",
       "      <td>-80995.000000</td>\n",
       "      <td>-11062.060000</td>\n",
       "      <td>12346.000000</td>\n",
       "    </tr>\n",
       "    <tr>\n",
       "      <th>25%</th>\n",
       "      <td>1.000000</td>\n",
       "      <td>1.250000</td>\n",
       "      <td>13953.000000</td>\n",
       "    </tr>\n",
       "    <tr>\n",
       "      <th>50%</th>\n",
       "      <td>3.000000</td>\n",
       "      <td>2.080000</td>\n",
       "      <td>15152.000000</td>\n",
       "    </tr>\n",
       "    <tr>\n",
       "      <th>75%</th>\n",
       "      <td>10.000000</td>\n",
       "      <td>4.130000</td>\n",
       "      <td>16791.000000</td>\n",
       "    </tr>\n",
       "    <tr>\n",
       "      <th>max</th>\n",
       "      <td>80995.000000</td>\n",
       "      <td>38970.000000</td>\n",
       "      <td>18287.000000</td>\n",
       "    </tr>\n",
       "  </tbody>\n",
       "</table>\n",
       "</div>"
      ],
      "text/plain": [
       "            Quantity          Price    Customer ID\n",
       "count  541910.000000  541910.000000  406830.000000\n",
       "mean        9.552234       4.611138   15287.684160\n",
       "std       218.080957      96.759765    1713.603074\n",
       "min    -80995.000000  -11062.060000   12346.000000\n",
       "25%         1.000000       1.250000   13953.000000\n",
       "50%         3.000000       2.080000   15152.000000\n",
       "75%        10.000000       4.130000   16791.000000\n",
       "max     80995.000000   38970.000000   18287.000000"
      ]
     },
     "metadata": {},
     "output_type": "display_data"
    }
   ],
   "source": [
    "display(data.info())\n",
    "display(data.describe())\n",
    "\n"
   ]
  },
  {
   "cell_type": "code",
   "execution_count": 408,
   "id": "a272b88b",
   "metadata": {},
   "outputs": [
    {
     "data": {
      "text/plain": [
       "Invoice             0\n",
       "StockCode           0\n",
       "Description      1454\n",
       "Quantity            0\n",
       "InvoiceDate         0\n",
       "Price               0\n",
       "Customer ID    135080\n",
       "Country             0\n",
       "dtype: int64"
      ]
     },
     "metadata": {},
     "output_type": "display_data"
    }
   ],
   "source": [
    "# Checking for null values\n",
    "display(data.isnull().sum())\n",
    "\n"
   ]
  },
  {
   "cell_type": "markdown",
   "id": "920eff30",
   "metadata": {},
   "source": [
    "* The Above checks for null values for each column and print the total null values in the end column vice."
   ]
  },
  {
   "cell_type": "markdown",
   "id": "32f2177b",
   "metadata": {},
   "source": [
    "* The below code fill the null values for the all the columns in the given dataset using for loop\n",
    "* It checks for the column datatypes and calculate the mean for numerical and mode for the categorical columns to be filled in the dataset.'"
   ]
  },
  {
   "cell_type": "code",
   "execution_count": 409,
   "id": "948bc123",
   "metadata": {},
   "outputs": [
    {
     "name": "stdout",
     "output_type": "stream",
     "text": [
      "Null values before handling:\n",
      "Invoice             0\n",
      "StockCode           0\n",
      "Description      1454\n",
      "Quantity            0\n",
      "InvoiceDate         0\n",
      "Price               0\n",
      "Customer ID    135080\n",
      "Country             0\n",
      "dtype: int64\n",
      "\n",
      "Null values after handling:\n",
      "Invoice        0\n",
      "StockCode      0\n",
      "Description    0\n",
      "Quantity       0\n",
      "InvoiceDate    0\n",
      "Price          0\n",
      "Customer ID    0\n",
      "Country        0\n",
      "dtype: int64\n"
     ]
    },
    {
     "name": "stderr",
     "output_type": "stream",
     "text": [
      "C:\\Users\\devas\\AppData\\Local\\Temp\\ipykernel_20000\\1866056267.py:11: FutureWarning: A value is trying to be set on a copy of a DataFrame or Series through chained assignment using an inplace method.\n",
      "The behavior will change in pandas 3.0. This inplace method will never work because the intermediate object on which we are setting values always behaves as a copy.\n",
      "\n",
      "For example, when doing 'df[col].method(value, inplace=True)', try using 'df.method({col: value}, inplace=True)' or df[col] = df[col].method(value) instead, to perform the operation inplace on the original object.\n",
      "\n",
      "\n",
      "  data[col].fillna(mode_val, inplace=True)\n",
      "C:\\Users\\devas\\AppData\\Local\\Temp\\ipykernel_20000\\1866056267.py:14: FutureWarning: A value is trying to be set on a copy of a DataFrame or Series through chained assignment using an inplace method.\n",
      "The behavior will change in pandas 3.0. This inplace method will never work because the intermediate object on which we are setting values always behaves as a copy.\n",
      "\n",
      "For example, when doing 'df[col].method(value, inplace=True)', try using 'df.method({col: value}, inplace=True)' or df[col] = df[col].method(value) instead, to perform the operation inplace on the original object.\n",
      "\n",
      "\n",
      "  data[col].fillna(mean_val, inplace=True)\n"
     ]
    }
   ],
   "source": [
    "# Check for null values\n",
    "print(\"Null values before handling:\")\n",
    "print(data.isnull().sum())\n",
    "\n",
    "# Handle null values\n",
    "# For example, let's say we want to impute null values with the mean for numerical columns\n",
    "# and with the mode for categorical columns\n",
    "for col in data.columns:\n",
    "    if data[col].dtype == 'object':  # Categorical columns\n",
    "        mode_val = data[col].mode()[0]\n",
    "        data[col].fillna(mode_val, inplace=True)\n",
    "    else:  # Numerical columns\n",
    "        mean_val = data[col].mean()\n",
    "        data[col].fillna(mean_val, inplace=True)\n",
    "\n",
    "# Check again for null values after handling\n",
    "print(\"\\nNull values after handling:\")\n",
    "print(data.isnull().sum())\n"
   ]
  },
  {
   "cell_type": "markdown",
   "id": "04685807",
   "metadata": {},
   "source": [
    "### Task B: 3 points\n",
    "\n",
    "1. Remove rows with cancelled operation.\n",
    "2. Drop duplicates\n",
    "3. Remove rows where Quantity and Price are greater than 0."
   ]
  },
  {
   "cell_type": "code",
   "execution_count": 410,
   "id": "8abd99e9",
   "metadata": {},
   "outputs": [],
   "source": [
    "# Remove rows with cancelled operation\n",
    "#Invoice Number -> If this code starts with C, it means that the operation has been canceled.\n",
    "data=data[data['Invoice'].str[0] != 'C']\n"
   ]
  },
  {
   "cell_type": "code",
   "execution_count": 411,
   "id": "c2abe19a",
   "metadata": {},
   "outputs": [],
   "source": [
    "#2. drop duplicates rows\n",
    "data=data.drop_duplicates()\n"
   ]
  },
  {
   "cell_type": "code",
   "execution_count": 427,
   "id": "195af0fa",
   "metadata": {},
   "outputs": [],
   "source": [
    "#3.Remove rows where Quantity and Price are not greater than 0.\n",
    "data = data[(data['Quantity'] > 0) & (data['Price'] > 0)]\n"
   ]
  },
  {
   "cell_type": "markdown",
   "id": "0033f104",
   "metadata": {},
   "source": [
    "### Task C: 5 points\n",
    "\n",
    "1. Check for no of unique values for stockcode and description.\n",
    "2. Remove Duplicates for description and stockcode.\n",
    "3. Remove rows where stockcode count is greater than 1 when aggregated by description.\n",
    "4. Remove rows where description count is greater than 1 when aggregated by stockcode."
   ]
  },
  {
   "cell_type": "code",
   "execution_count": 414,
   "id": "8ecbd948",
   "metadata": {},
   "outputs": [
    {
     "name": "stdout",
     "output_type": "stream",
     "text": [
      "Unique value count for StockCodes: 3922\n",
      "Unique value count for Descriptions: 4026\n"
     ]
    }
   ],
   "source": [
    "#1. Check for no of unique values for stockcode and description.\n",
    "\n",
    "stockcode_count = data['StockCode'].nunique()\n",
    "print(\"Unique value count for StockCodes:\", stockcode_count)\n",
    "\n",
    "# Number of unique values for 'Description'\n",
    "description_count = data['Description'].nunique()\n",
    "print(\"Unique value count for Descriptions:\", description_count)\n"
   ]
  },
  {
   "cell_type": "code",
   "execution_count": 416,
   "id": "0dc7520d",
   "metadata": {},
   "outputs": [],
   "source": [
    "#2. Remove duplicates for 'Description' and 'StockCode' combo with \n",
    "data.drop_duplicates(subset=['Description', 'StockCode'], inplace=True)\n",
    "\n"
   ]
  },
  {
   "cell_type": "code",
   "execution_count": 418,
   "id": "d71e998d",
   "metadata": {},
   "outputs": [],
   "source": [
    "# 3. Remove rows where stockcode count is greater than 1 when aggregated by description.\n",
    "description_stockcode_counts = data.groupby('Description')['StockCode'].count()\n",
    "duplicate_stockcodes = description_stockcode_counts[description_stockcode_counts > 1].index\n",
    "data = data[~data['Description'].isin(duplicate_stockcodes)]"
   ]
  },
  {
   "cell_type": "code",
   "execution_count": 419,
   "id": "98a0d12e",
   "metadata": {},
   "outputs": [],
   "source": [
    "# 4. Remove rows where description count is greater than 1 when aggregated by stockcode.\n",
    "stockcode_description_counts = data.groupby('StockCode')['Description'].count()\n",
    "duplicate_descriptions = stockcode_description_counts[stockcode_description_counts > 1].index\n",
    "data = data[~data['StockCode'].isin(duplicate_descriptions)]"
   ]
  },
  {
   "cell_type": "markdown",
   "id": "39ba7152",
   "metadata": {},
   "source": [
    "* The above code agrregte on both description and stockcode and removes the extra description and stockcode rows keeping 0n0 to 0ne relation bestween them"
   ]
  },
  {
   "cell_type": "markdown",
   "id": "293be9e5",
   "metadata": {},
   "source": [
    "### Task D: 2 points\n",
    "\n",
    "1. Remove rows where stockcode contains Post that indicates the postage cost.\n",
    "2. Consider rows for 'Germany' Only."
   ]
  },
  {
   "cell_type": "code",
   "execution_count": 421,
   "id": "540e68d6",
   "metadata": {},
   "outputs": [
    {
     "name": "stdout",
     "output_type": "stream",
     "text": [
      "Sample of DataFrame after filtering out rows with 'POST' in StockCode:\n",
      "  Invoice StockCode                          Description  Quantity  \\\n",
      "2  536365    84406B       CREAM CUPID HEARTS COAT HANGER         8   \n",
      "3  536365    84029G  KNITTED UNION FLAG HOT WATER BOTTLE         6   \n",
      "4  536365    84029E       RED WOOLLY HOTTIE WHITE HEART.         6   \n",
      "5  536365     22752         SET 7 BABUSHKA NESTING BOXES         2   \n",
      "6  536365     21730    GLASS STAR FROSTED T-LIGHT HOLDER         6   \n",
      "\n",
      "      InvoiceDate  Price  Customer ID         Country  \n",
      "2  12/1/2010 8:26   2.75      17850.0  United Kingdom  \n",
      "3  12/1/2010 8:26   3.39      17850.0  United Kingdom  \n",
      "4  12/1/2010 8:26   3.39      17850.0  United Kingdom  \n",
      "5  12/1/2010 8:26   7.65      17850.0  United Kingdom  \n",
      "6  12/1/2010 8:26   4.25      17850.0  United Kingdom  \n"
     ]
    }
   ],
   "source": [
    "# Removing rows where stockcode contains 'POST'\n",
    "data = data[~data['StockCode'].str.contains('POST', case=False)]\n",
    "\n",
    "\n",
    "# Display sample of DataFrame after filtering\n",
    "print(\"Sample of DataFrame after filtering out rows with 'POST' in StockCode:\")\n",
    "print(data.head())\n"
   ]
  },
  {
   "cell_type": "code",
   "execution_count": 428,
   "id": "1dd49394",
   "metadata": {},
   "outputs": [
    {
     "name": "stdout",
     "output_type": "stream",
     "text": [
      "Sample of DataFrame after filtering for 'Germany' only:\n"
     ]
    },
    {
     "data": {
      "text/html": [
       "<div>\n",
       "<style scoped>\n",
       "    .dataframe tbody tr th:only-of-type {\n",
       "        vertical-align: middle;\n",
       "    }\n",
       "\n",
       "    .dataframe tbody tr th {\n",
       "        vertical-align: top;\n",
       "    }\n",
       "\n",
       "    .dataframe thead th {\n",
       "        text-align: right;\n",
       "    }\n",
       "</style>\n",
       "<table border=\"1\" class=\"dataframe\">\n",
       "  <thead>\n",
       "    <tr style=\"text-align: right;\">\n",
       "      <th></th>\n",
       "      <th>Invoice</th>\n",
       "      <th>StockCode</th>\n",
       "      <th>Description</th>\n",
       "      <th>Quantity</th>\n",
       "      <th>InvoiceDate</th>\n",
       "      <th>Price</th>\n",
       "      <th>Customer ID</th>\n",
       "      <th>Country</th>\n",
       "    </tr>\n",
       "  </thead>\n",
       "  <tbody>\n",
       "    <tr>\n",
       "      <th>1111</th>\n",
       "      <td>536527</td>\n",
       "      <td>84945</td>\n",
       "      <td>MULTI COLOUR SILVER T-LIGHT HOLDER</td>\n",
       "      <td>12</td>\n",
       "      <td>12/1/2010 13:04</td>\n",
       "      <td>0.85</td>\n",
       "      <td>12662.0</td>\n",
       "      <td>Germany</td>\n",
       "    </tr>\n",
       "    <tr>\n",
       "      <th>1113</th>\n",
       "      <td>536527</td>\n",
       "      <td>22244</td>\n",
       "      <td>3 HOOK HANGER MAGIC GARDEN</td>\n",
       "      <td>12</td>\n",
       "      <td>12/1/2010 13:04</td>\n",
       "      <td>1.95</td>\n",
       "      <td>12662.0</td>\n",
       "      <td>Germany</td>\n",
       "    </tr>\n",
       "    <tr>\n",
       "      <th>1115</th>\n",
       "      <td>536527</td>\n",
       "      <td>47421</td>\n",
       "      <td>ASSORTED COLOUR LIZARD SUCTION HOOK</td>\n",
       "      <td>24</td>\n",
       "      <td>12/1/2010 13:04</td>\n",
       "      <td>0.42</td>\n",
       "      <td>12662.0</td>\n",
       "      <td>Germany</td>\n",
       "    </tr>\n",
       "    <tr>\n",
       "      <th>1116</th>\n",
       "      <td>536527</td>\n",
       "      <td>20712</td>\n",
       "      <td>JUMBO BAG WOODLAND ANIMALS</td>\n",
       "      <td>10</td>\n",
       "      <td>12/1/2010 13:04</td>\n",
       "      <td>1.95</td>\n",
       "      <td>12662.0</td>\n",
       "      <td>Germany</td>\n",
       "    </tr>\n",
       "    <tr>\n",
       "      <th>1120</th>\n",
       "      <td>536527</td>\n",
       "      <td>22973</td>\n",
       "      <td>CHILDREN'S CIRCUS PARADE MUG</td>\n",
       "      <td>12</td>\n",
       "      <td>12/1/2010 13:04</td>\n",
       "      <td>1.65</td>\n",
       "      <td>12662.0</td>\n",
       "      <td>Germany</td>\n",
       "    </tr>\n",
       "  </tbody>\n",
       "</table>\n",
       "</div>"
      ],
      "text/plain": [
       "     Invoice StockCode                          Description  Quantity  \\\n",
       "1111  536527     84945   MULTI COLOUR SILVER T-LIGHT HOLDER        12   \n",
       "1113  536527     22244           3 HOOK HANGER MAGIC GARDEN        12   \n",
       "1115  536527     47421  ASSORTED COLOUR LIZARD SUCTION HOOK        24   \n",
       "1116  536527     20712           JUMBO BAG WOODLAND ANIMALS        10   \n",
       "1120  536527     22973         CHILDREN'S CIRCUS PARADE MUG        12   \n",
       "\n",
       "          InvoiceDate  Price  Customer ID  Country  \n",
       "1111  12/1/2010 13:04   0.85      12662.0  Germany  \n",
       "1113  12/1/2010 13:04   1.95      12662.0  Germany  \n",
       "1115  12/1/2010 13:04   0.42      12662.0  Germany  \n",
       "1116  12/1/2010 13:04   1.95      12662.0  Germany  \n",
       "1120  12/1/2010 13:04   1.65      12662.0  Germany  "
      ]
     },
     "metadata": {},
     "output_type": "display_data"
    }
   ],
   "source": [
    "# Filter rows for 'Germany' only\n",
    "data = data[data['Country'] == 'Germany']\n",
    "\n",
    "\n",
    "\n",
    "# Display sample of DataFrame after filtering\n",
    "print(\"Sample of DataFrame after filtering for 'Germany' only:\")\n",
    "display(data.head())\n"
   ]
  },
  {
   "cell_type": "markdown",
   "id": "125689d6",
   "metadata": {},
   "source": [
    "### Task E: 7 points\n",
    "\n",
    "Transform the data having unique stockcode as column name and indication of the product in the each invoice as 0/1."
   ]
  },
  {
   "cell_type": "code",
   "execution_count": 429,
   "id": "8b5999a3",
   "metadata": {},
   "outputs": [
    {
     "data": {
      "text/html": [
       "<div>\n",
       "<style scoped>\n",
       "    .dataframe tbody tr th:only-of-type {\n",
       "        vertical-align: middle;\n",
       "    }\n",
       "\n",
       "    .dataframe tbody tr th {\n",
       "        vertical-align: top;\n",
       "    }\n",
       "\n",
       "    .dataframe thead th {\n",
       "        text-align: right;\n",
       "    }\n",
       "</style>\n",
       "<table border=\"1\" class=\"dataframe\">\n",
       "  <thead>\n",
       "    <tr style=\"text-align: right;\">\n",
       "      <th>StockCode</th>\n",
       "      <th>20712</th>\n",
       "      <th>21084</th>\n",
       "      <th>21088</th>\n",
       "      <th>21096</th>\n",
       "      <th>21394</th>\n",
       "      <th>21424</th>\n",
       "      <th>22046</th>\n",
       "      <th>22244</th>\n",
       "      <th>22344</th>\n",
       "      <th>22346</th>\n",
       "      <th>...</th>\n",
       "      <th>23375</th>\n",
       "      <th>23702</th>\n",
       "      <th>44242B</th>\n",
       "      <th>47351B</th>\n",
       "      <th>47421</th>\n",
       "      <th>84569B</th>\n",
       "      <th>84849D</th>\n",
       "      <th>84945</th>\n",
       "      <th>85205B</th>\n",
       "      <th>90098</th>\n",
       "    </tr>\n",
       "    <tr>\n",
       "      <th>Invoice</th>\n",
       "      <th></th>\n",
       "      <th></th>\n",
       "      <th></th>\n",
       "      <th></th>\n",
       "      <th></th>\n",
       "      <th></th>\n",
       "      <th></th>\n",
       "      <th></th>\n",
       "      <th></th>\n",
       "      <th></th>\n",
       "      <th></th>\n",
       "      <th></th>\n",
       "      <th></th>\n",
       "      <th></th>\n",
       "      <th></th>\n",
       "      <th></th>\n",
       "      <th></th>\n",
       "      <th></th>\n",
       "      <th></th>\n",
       "      <th></th>\n",
       "      <th></th>\n",
       "    </tr>\n",
       "  </thead>\n",
       "  <tbody>\n",
       "    <tr>\n",
       "      <th>536527</th>\n",
       "      <td>1</td>\n",
       "      <td>0</td>\n",
       "      <td>0</td>\n",
       "      <td>0</td>\n",
       "      <td>0</td>\n",
       "      <td>0</td>\n",
       "      <td>0</td>\n",
       "      <td>1</td>\n",
       "      <td>0</td>\n",
       "      <td>0</td>\n",
       "      <td>...</td>\n",
       "      <td>0</td>\n",
       "      <td>0</td>\n",
       "      <td>0</td>\n",
       "      <td>0</td>\n",
       "      <td>1</td>\n",
       "      <td>1</td>\n",
       "      <td>0</td>\n",
       "      <td>1</td>\n",
       "      <td>0</td>\n",
       "      <td>0</td>\n",
       "    </tr>\n",
       "    <tr>\n",
       "      <th>536983</th>\n",
       "      <td>0</td>\n",
       "      <td>0</td>\n",
       "      <td>0</td>\n",
       "      <td>0</td>\n",
       "      <td>0</td>\n",
       "      <td>0</td>\n",
       "      <td>0</td>\n",
       "      <td>0</td>\n",
       "      <td>0</td>\n",
       "      <td>0</td>\n",
       "      <td>...</td>\n",
       "      <td>0</td>\n",
       "      <td>0</td>\n",
       "      <td>0</td>\n",
       "      <td>0</td>\n",
       "      <td>0</td>\n",
       "      <td>0</td>\n",
       "      <td>1</td>\n",
       "      <td>0</td>\n",
       "      <td>0</td>\n",
       "      <td>0</td>\n",
       "    </tr>\n",
       "    <tr>\n",
       "      <th>537197</th>\n",
       "      <td>0</td>\n",
       "      <td>0</td>\n",
       "      <td>0</td>\n",
       "      <td>0</td>\n",
       "      <td>0</td>\n",
       "      <td>0</td>\n",
       "      <td>0</td>\n",
       "      <td>0</td>\n",
       "      <td>0</td>\n",
       "      <td>0</td>\n",
       "      <td>...</td>\n",
       "      <td>0</td>\n",
       "      <td>0</td>\n",
       "      <td>0</td>\n",
       "      <td>0</td>\n",
       "      <td>0</td>\n",
       "      <td>0</td>\n",
       "      <td>0</td>\n",
       "      <td>0</td>\n",
       "      <td>0</td>\n",
       "      <td>0</td>\n",
       "    </tr>\n",
       "    <tr>\n",
       "      <th>537212</th>\n",
       "      <td>0</td>\n",
       "      <td>0</td>\n",
       "      <td>0</td>\n",
       "      <td>0</td>\n",
       "      <td>0</td>\n",
       "      <td>0</td>\n",
       "      <td>0</td>\n",
       "      <td>0</td>\n",
       "      <td>1</td>\n",
       "      <td>1</td>\n",
       "      <td>...</td>\n",
       "      <td>0</td>\n",
       "      <td>0</td>\n",
       "      <td>0</td>\n",
       "      <td>0</td>\n",
       "      <td>0</td>\n",
       "      <td>0</td>\n",
       "      <td>0</td>\n",
       "      <td>0</td>\n",
       "      <td>0</td>\n",
       "      <td>0</td>\n",
       "    </tr>\n",
       "    <tr>\n",
       "      <th>538174</th>\n",
       "      <td>0</td>\n",
       "      <td>0</td>\n",
       "      <td>0</td>\n",
       "      <td>0</td>\n",
       "      <td>0</td>\n",
       "      <td>0</td>\n",
       "      <td>0</td>\n",
       "      <td>0</td>\n",
       "      <td>0</td>\n",
       "      <td>0</td>\n",
       "      <td>...</td>\n",
       "      <td>0</td>\n",
       "      <td>0</td>\n",
       "      <td>0</td>\n",
       "      <td>0</td>\n",
       "      <td>0</td>\n",
       "      <td>0</td>\n",
       "      <td>0</td>\n",
       "      <td>0</td>\n",
       "      <td>0</td>\n",
       "      <td>0</td>\n",
       "    </tr>\n",
       "    <tr>\n",
       "      <th>539405</th>\n",
       "      <td>0</td>\n",
       "      <td>0</td>\n",
       "      <td>0</td>\n",
       "      <td>0</td>\n",
       "      <td>0</td>\n",
       "      <td>0</td>\n",
       "      <td>0</td>\n",
       "      <td>0</td>\n",
       "      <td>0</td>\n",
       "      <td>0</td>\n",
       "      <td>...</td>\n",
       "      <td>0</td>\n",
       "      <td>0</td>\n",
       "      <td>0</td>\n",
       "      <td>0</td>\n",
       "      <td>0</td>\n",
       "      <td>0</td>\n",
       "      <td>0</td>\n",
       "      <td>0</td>\n",
       "      <td>1</td>\n",
       "      <td>0</td>\n",
       "    </tr>\n",
       "    <tr>\n",
       "      <th>539446</th>\n",
       "      <td>0</td>\n",
       "      <td>0</td>\n",
       "      <td>0</td>\n",
       "      <td>0</td>\n",
       "      <td>0</td>\n",
       "      <td>1</td>\n",
       "      <td>0</td>\n",
       "      <td>0</td>\n",
       "      <td>0</td>\n",
       "      <td>0</td>\n",
       "      <td>...</td>\n",
       "      <td>0</td>\n",
       "      <td>0</td>\n",
       "      <td>0</td>\n",
       "      <td>0</td>\n",
       "      <td>0</td>\n",
       "      <td>0</td>\n",
       "      <td>0</td>\n",
       "      <td>0</td>\n",
       "      <td>0</td>\n",
       "      <td>0</td>\n",
       "    </tr>\n",
       "    <tr>\n",
       "      <th>539946</th>\n",
       "      <td>0</td>\n",
       "      <td>0</td>\n",
       "      <td>0</td>\n",
       "      <td>0</td>\n",
       "      <td>1</td>\n",
       "      <td>0</td>\n",
       "      <td>0</td>\n",
       "      <td>0</td>\n",
       "      <td>0</td>\n",
       "      <td>0</td>\n",
       "      <td>...</td>\n",
       "      <td>0</td>\n",
       "      <td>0</td>\n",
       "      <td>0</td>\n",
       "      <td>0</td>\n",
       "      <td>0</td>\n",
       "      <td>0</td>\n",
       "      <td>0</td>\n",
       "      <td>0</td>\n",
       "      <td>0</td>\n",
       "      <td>0</td>\n",
       "    </tr>\n",
       "    <tr>\n",
       "      <th>539957</th>\n",
       "      <td>0</td>\n",
       "      <td>0</td>\n",
       "      <td>0</td>\n",
       "      <td>0</td>\n",
       "      <td>0</td>\n",
       "      <td>0</td>\n",
       "      <td>1</td>\n",
       "      <td>0</td>\n",
       "      <td>0</td>\n",
       "      <td>0</td>\n",
       "      <td>...</td>\n",
       "      <td>0</td>\n",
       "      <td>0</td>\n",
       "      <td>0</td>\n",
       "      <td>0</td>\n",
       "      <td>0</td>\n",
       "      <td>0</td>\n",
       "      <td>0</td>\n",
       "      <td>0</td>\n",
       "      <td>0</td>\n",
       "      <td>0</td>\n",
       "    </tr>\n",
       "    <tr>\n",
       "      <th>540458</th>\n",
       "      <td>0</td>\n",
       "      <td>1</td>\n",
       "      <td>1</td>\n",
       "      <td>1</td>\n",
       "      <td>0</td>\n",
       "      <td>0</td>\n",
       "      <td>0</td>\n",
       "      <td>0</td>\n",
       "      <td>0</td>\n",
       "      <td>0</td>\n",
       "      <td>...</td>\n",
       "      <td>0</td>\n",
       "      <td>0</td>\n",
       "      <td>0</td>\n",
       "      <td>1</td>\n",
       "      <td>0</td>\n",
       "      <td>0</td>\n",
       "      <td>0</td>\n",
       "      <td>0</td>\n",
       "      <td>0</td>\n",
       "      <td>0</td>\n",
       "    </tr>\n",
       "    <tr>\n",
       "      <th>543121</th>\n",
       "      <td>0</td>\n",
       "      <td>0</td>\n",
       "      <td>0</td>\n",
       "      <td>0</td>\n",
       "      <td>0</td>\n",
       "      <td>0</td>\n",
       "      <td>0</td>\n",
       "      <td>0</td>\n",
       "      <td>0</td>\n",
       "      <td>0</td>\n",
       "      <td>...</td>\n",
       "      <td>0</td>\n",
       "      <td>0</td>\n",
       "      <td>0</td>\n",
       "      <td>0</td>\n",
       "      <td>0</td>\n",
       "      <td>0</td>\n",
       "      <td>0</td>\n",
       "      <td>0</td>\n",
       "      <td>0</td>\n",
       "      <td>1</td>\n",
       "    </tr>\n",
       "    <tr>\n",
       "      <th>547821</th>\n",
       "      <td>0</td>\n",
       "      <td>0</td>\n",
       "      <td>0</td>\n",
       "      <td>0</td>\n",
       "      <td>0</td>\n",
       "      <td>0</td>\n",
       "      <td>0</td>\n",
       "      <td>0</td>\n",
       "      <td>0</td>\n",
       "      <td>0</td>\n",
       "      <td>...</td>\n",
       "      <td>0</td>\n",
       "      <td>0</td>\n",
       "      <td>0</td>\n",
       "      <td>0</td>\n",
       "      <td>0</td>\n",
       "      <td>0</td>\n",
       "      <td>0</td>\n",
       "      <td>0</td>\n",
       "      <td>0</td>\n",
       "      <td>0</td>\n",
       "    </tr>\n",
       "    <tr>\n",
       "      <th>550137</th>\n",
       "      <td>0</td>\n",
       "      <td>0</td>\n",
       "      <td>0</td>\n",
       "      <td>0</td>\n",
       "      <td>0</td>\n",
       "      <td>0</td>\n",
       "      <td>0</td>\n",
       "      <td>0</td>\n",
       "      <td>0</td>\n",
       "      <td>0</td>\n",
       "      <td>...</td>\n",
       "      <td>0</td>\n",
       "      <td>0</td>\n",
       "      <td>1</td>\n",
       "      <td>0</td>\n",
       "      <td>0</td>\n",
       "      <td>0</td>\n",
       "      <td>0</td>\n",
       "      <td>0</td>\n",
       "      <td>0</td>\n",
       "      <td>0</td>\n",
       "    </tr>\n",
       "    <tr>\n",
       "      <th>555282</th>\n",
       "      <td>0</td>\n",
       "      <td>0</td>\n",
       "      <td>0</td>\n",
       "      <td>0</td>\n",
       "      <td>0</td>\n",
       "      <td>0</td>\n",
       "      <td>0</td>\n",
       "      <td>0</td>\n",
       "      <td>0</td>\n",
       "      <td>0</td>\n",
       "      <td>...</td>\n",
       "      <td>0</td>\n",
       "      <td>0</td>\n",
       "      <td>0</td>\n",
       "      <td>0</td>\n",
       "      <td>0</td>\n",
       "      <td>0</td>\n",
       "      <td>0</td>\n",
       "      <td>0</td>\n",
       "      <td>0</td>\n",
       "      <td>0</td>\n",
       "    </tr>\n",
       "    <tr>\n",
       "      <th>555383</th>\n",
       "      <td>0</td>\n",
       "      <td>0</td>\n",
       "      <td>0</td>\n",
       "      <td>0</td>\n",
       "      <td>0</td>\n",
       "      <td>0</td>\n",
       "      <td>0</td>\n",
       "      <td>0</td>\n",
       "      <td>0</td>\n",
       "      <td>0</td>\n",
       "      <td>...</td>\n",
       "      <td>0</td>\n",
       "      <td>0</td>\n",
       "      <td>0</td>\n",
       "      <td>0</td>\n",
       "      <td>0</td>\n",
       "      <td>0</td>\n",
       "      <td>0</td>\n",
       "      <td>0</td>\n",
       "      <td>0</td>\n",
       "      <td>0</td>\n",
       "    </tr>\n",
       "    <tr>\n",
       "      <th>559298</th>\n",
       "      <td>0</td>\n",
       "      <td>0</td>\n",
       "      <td>0</td>\n",
       "      <td>0</td>\n",
       "      <td>0</td>\n",
       "      <td>0</td>\n",
       "      <td>0</td>\n",
       "      <td>0</td>\n",
       "      <td>0</td>\n",
       "      <td>0</td>\n",
       "      <td>...</td>\n",
       "      <td>0</td>\n",
       "      <td>0</td>\n",
       "      <td>0</td>\n",
       "      <td>0</td>\n",
       "      <td>0</td>\n",
       "      <td>0</td>\n",
       "      <td>0</td>\n",
       "      <td>0</td>\n",
       "      <td>0</td>\n",
       "      <td>0</td>\n",
       "    </tr>\n",
       "    <tr>\n",
       "      <th>563950</th>\n",
       "      <td>0</td>\n",
       "      <td>0</td>\n",
       "      <td>0</td>\n",
       "      <td>0</td>\n",
       "      <td>0</td>\n",
       "      <td>0</td>\n",
       "      <td>0</td>\n",
       "      <td>0</td>\n",
       "      <td>0</td>\n",
       "      <td>0</td>\n",
       "      <td>...</td>\n",
       "      <td>1</td>\n",
       "      <td>0</td>\n",
       "      <td>0</td>\n",
       "      <td>0</td>\n",
       "      <td>0</td>\n",
       "      <td>0</td>\n",
       "      <td>0</td>\n",
       "      <td>0</td>\n",
       "      <td>0</td>\n",
       "      <td>0</td>\n",
       "    </tr>\n",
       "    <tr>\n",
       "      <th>571739</th>\n",
       "      <td>0</td>\n",
       "      <td>0</td>\n",
       "      <td>0</td>\n",
       "      <td>0</td>\n",
       "      <td>0</td>\n",
       "      <td>0</td>\n",
       "      <td>0</td>\n",
       "      <td>0</td>\n",
       "      <td>0</td>\n",
       "      <td>0</td>\n",
       "      <td>...</td>\n",
       "      <td>0</td>\n",
       "      <td>1</td>\n",
       "      <td>0</td>\n",
       "      <td>0</td>\n",
       "      <td>0</td>\n",
       "      <td>0</td>\n",
       "      <td>0</td>\n",
       "      <td>0</td>\n",
       "      <td>0</td>\n",
       "      <td>0</td>\n",
       "    </tr>\n",
       "  </tbody>\n",
       "</table>\n",
       "<p>18 rows × 31 columns</p>\n",
       "</div>"
      ],
      "text/plain": [
       "StockCode  20712  21084  21088  21096  21394  21424  22046  22244  22344  \\\n",
       "Invoice                                                                    \n",
       "536527         1      0      0      0      0      0      0      1      0   \n",
       "536983         0      0      0      0      0      0      0      0      0   \n",
       "537197         0      0      0      0      0      0      0      0      0   \n",
       "537212         0      0      0      0      0      0      0      0      1   \n",
       "538174         0      0      0      0      0      0      0      0      0   \n",
       "539405         0      0      0      0      0      0      0      0      0   \n",
       "539446         0      0      0      0      0      1      0      0      0   \n",
       "539946         0      0      0      0      1      0      0      0      0   \n",
       "539957         0      0      0      0      0      0      1      0      0   \n",
       "540458         0      1      1      1      0      0      0      0      0   \n",
       "543121         0      0      0      0      0      0      0      0      0   \n",
       "547821         0      0      0      0      0      0      0      0      0   \n",
       "550137         0      0      0      0      0      0      0      0      0   \n",
       "555282         0      0      0      0      0      0      0      0      0   \n",
       "555383         0      0      0      0      0      0      0      0      0   \n",
       "559298         0      0      0      0      0      0      0      0      0   \n",
       "563950         0      0      0      0      0      0      0      0      0   \n",
       "571739         0      0      0      0      0      0      0      0      0   \n",
       "\n",
       "StockCode  22346  ...  23375  23702  44242B  47351B  47421  84569B  84849D  \\\n",
       "Invoice           ...                                                        \n",
       "536527         0  ...      0      0       0       0      1       1       0   \n",
       "536983         0  ...      0      0       0       0      0       0       1   \n",
       "537197         0  ...      0      0       0       0      0       0       0   \n",
       "537212         1  ...      0      0       0       0      0       0       0   \n",
       "538174         0  ...      0      0       0       0      0       0       0   \n",
       "539405         0  ...      0      0       0       0      0       0       0   \n",
       "539446         0  ...      0      0       0       0      0       0       0   \n",
       "539946         0  ...      0      0       0       0      0       0       0   \n",
       "539957         0  ...      0      0       0       0      0       0       0   \n",
       "540458         0  ...      0      0       0       1      0       0       0   \n",
       "543121         0  ...      0      0       0       0      0       0       0   \n",
       "547821         0  ...      0      0       0       0      0       0       0   \n",
       "550137         0  ...      0      0       1       0      0       0       0   \n",
       "555282         0  ...      0      0       0       0      0       0       0   \n",
       "555383         0  ...      0      0       0       0      0       0       0   \n",
       "559298         0  ...      0      0       0       0      0       0       0   \n",
       "563950         0  ...      1      0       0       0      0       0       0   \n",
       "571739         0  ...      0      1       0       0      0       0       0   \n",
       "\n",
       "StockCode  84945  85205B  90098  \n",
       "Invoice                          \n",
       "536527         1       0      0  \n",
       "536983         0       0      0  \n",
       "537197         0       0      0  \n",
       "537212         0       0      0  \n",
       "538174         0       0      0  \n",
       "539405         0       1      0  \n",
       "539446         0       0      0  \n",
       "539946         0       0      0  \n",
       "539957         0       0      0  \n",
       "540458         0       0      0  \n",
       "543121         0       0      1  \n",
       "547821         0       0      0  \n",
       "550137         0       0      0  \n",
       "555282         0       0      0  \n",
       "555383         0       0      0  \n",
       "559298         0       0      0  \n",
       "563950         0       0      0  \n",
       "571739         0       0      0  \n",
       "\n",
       "[18 rows x 31 columns]"
      ]
     },
     "metadata": {},
     "output_type": "display_data"
    }
   ],
   "source": [
    "# Perform one-hot encoding with pivot table \n",
    "data_encoded = data.pivot_table(index='Invoice', columns='StockCode', aggfunc='size', fill_value=0)\n",
    "\n",
    "\n",
    "display(data_encoded)\n"
   ]
  },
  {
   "cell_type": "code",
   "execution_count": null,
   "id": "1a6a7665",
   "metadata": {},
   "outputs": [],
   "source": []
  },
  {
   "cell_type": "markdown",
   "id": "f22da922",
   "metadata": {},
   "source": [
    "* performing the encoding for datset the between invoice and stockcode using pivot command"
   ]
  },
  {
   "cell_type": "markdown",
   "id": "e647cfa6",
   "metadata": {},
   "source": [
    "### Task F: 7 points\n",
    "\n",
    "Apply apriori algorithm with 0.01 support"
   ]
  },
  {
   "cell_type": "code",
   "execution_count": 430,
   "id": "a1a5c42e",
   "metadata": {},
   "outputs": [
    {
     "name": "stderr",
     "output_type": "stream",
     "text": [
      "C:\\Users\\devas\\AppData\\Local\\Packages\\PythonSoftwareFoundation.Python.3.11_qbz5n2kfra8p0\\LocalCache\\local-packages\\Python311\\site-packages\\mlxtend\\frequent_patterns\\fpcommon.py:109: DeprecationWarning: DataFrames with non-bool types result in worse computationalperformance and their support might be discontinued in the future.Please use a DataFrame with bool type\n",
      "  warnings.warn(\n"
     ]
    }
   ],
   "source": [
    "# implemting apriori algoritm with 0.01 support to find the ferquent item sets.\n",
    "import pandas as pd\n",
    "from mlxtend.frequent_patterns import apriori\n",
    "\n",
    "frequent_itemsets_apriori = apriori(data_encoded, min_support=0.01, use_colnames=True)"
   ]
  },
  {
   "cell_type": "markdown",
   "id": "27002f88",
   "metadata": {},
   "source": [
    "### Task G: 5 points\n",
    "\n",
    "Print top 5 association rules for support metric and 0.01 threshold in accordance with support value."
   ]
  },
  {
   "cell_type": "code",
   "execution_count": 431,
   "id": "aefe6c8b",
   "metadata": {},
   "outputs": [
    {
     "data": {
      "text/html": [
       "<div>\n",
       "<style scoped>\n",
       "    .dataframe tbody tr th:only-of-type {\n",
       "        vertical-align: middle;\n",
       "    }\n",
       "\n",
       "    .dataframe tbody tr th {\n",
       "        vertical-align: top;\n",
       "    }\n",
       "\n",
       "    .dataframe thead th {\n",
       "        text-align: right;\n",
       "    }\n",
       "</style>\n",
       "<table border=\"1\" class=\"dataframe\">\n",
       "  <thead>\n",
       "    <tr style=\"text-align: right;\">\n",
       "      <th></th>\n",
       "      <th>antecedents</th>\n",
       "      <th>consequents</th>\n",
       "      <th>antecedent support</th>\n",
       "      <th>consequent support</th>\n",
       "      <th>support</th>\n",
       "      <th>confidence</th>\n",
       "      <th>lift</th>\n",
       "      <th>leverage</th>\n",
       "      <th>conviction</th>\n",
       "      <th>zhangs_metric</th>\n",
       "    </tr>\n",
       "  </thead>\n",
       "  <tbody>\n",
       "    <tr>\n",
       "      <th>0</th>\n",
       "      <td>(20712)</td>\n",
       "      <td>(22244)</td>\n",
       "      <td>0.055556</td>\n",
       "      <td>0.055556</td>\n",
       "      <td>0.055556</td>\n",
       "      <td>1.0</td>\n",
       "      <td>18.0</td>\n",
       "      <td>0.052469</td>\n",
       "      <td>inf</td>\n",
       "      <td>1.0</td>\n",
       "    </tr>\n",
       "    <tr>\n",
       "      <th>1</th>\n",
       "      <td>(22244)</td>\n",
       "      <td>(20712)</td>\n",
       "      <td>0.055556</td>\n",
       "      <td>0.055556</td>\n",
       "      <td>0.055556</td>\n",
       "      <td>1.0</td>\n",
       "      <td>18.0</td>\n",
       "      <td>0.052469</td>\n",
       "      <td>inf</td>\n",
       "      <td>1.0</td>\n",
       "    </tr>\n",
       "    <tr>\n",
       "      <th>2</th>\n",
       "      <td>(20712)</td>\n",
       "      <td>(22973)</td>\n",
       "      <td>0.055556</td>\n",
       "      <td>0.055556</td>\n",
       "      <td>0.055556</td>\n",
       "      <td>1.0</td>\n",
       "      <td>18.0</td>\n",
       "      <td>0.052469</td>\n",
       "      <td>inf</td>\n",
       "      <td>1.0</td>\n",
       "    </tr>\n",
       "    <tr>\n",
       "      <th>3</th>\n",
       "      <td>(22973)</td>\n",
       "      <td>(20712)</td>\n",
       "      <td>0.055556</td>\n",
       "      <td>0.055556</td>\n",
       "      <td>0.055556</td>\n",
       "      <td>1.0</td>\n",
       "      <td>18.0</td>\n",
       "      <td>0.052469</td>\n",
       "      <td>inf</td>\n",
       "      <td>1.0</td>\n",
       "    </tr>\n",
       "    <tr>\n",
       "      <th>4</th>\n",
       "      <td>(47421)</td>\n",
       "      <td>(20712)</td>\n",
       "      <td>0.055556</td>\n",
       "      <td>0.055556</td>\n",
       "      <td>0.055556</td>\n",
       "      <td>1.0</td>\n",
       "      <td>18.0</td>\n",
       "      <td>0.052469</td>\n",
       "      <td>inf</td>\n",
       "      <td>1.0</td>\n",
       "    </tr>\n",
       "  </tbody>\n",
       "</table>\n",
       "</div>"
      ],
      "text/plain": [
       "  antecedents consequents  antecedent support  consequent support   support  \\\n",
       "0     (20712)     (22244)            0.055556            0.055556  0.055556   \n",
       "1     (22244)     (20712)            0.055556            0.055556  0.055556   \n",
       "2     (20712)     (22973)            0.055556            0.055556  0.055556   \n",
       "3     (22973)     (20712)            0.055556            0.055556  0.055556   \n",
       "4     (47421)     (20712)            0.055556            0.055556  0.055556   \n",
       "\n",
       "   confidence  lift  leverage  conviction  zhangs_metric  \n",
       "0         1.0  18.0  0.052469         inf            1.0  \n",
       "1         1.0  18.0  0.052469         inf            1.0  \n",
       "2         1.0  18.0  0.052469         inf            1.0  \n",
       "3         1.0  18.0  0.052469         inf            1.0  \n",
       "4         1.0  18.0  0.052469         inf            1.0  "
      ]
     },
     "execution_count": 431,
     "metadata": {},
     "output_type": "execute_result"
    }
   ],
   "source": [
    "# creating  the rules conditions for the frequent datasets\n",
    "\n",
    "from mlxtend.frequent_patterns import association_rules\n",
    "\n",
    "rules_apriori = association_rules(frequent_itemsets_apriori, metric=\"support\", min_threshold=0.01)\n",
    "\n",
    "rules_apriori.head()"
   ]
  },
  {
   "cell_type": "markdown",
   "id": "22be446e",
   "metadata": {},
   "source": [
    "### Task H: 3 points\n",
    "\n",
    "Store the association rules from top to bottom with respect to lift parameter and store it in a variable."
   ]
  },
  {
   "cell_type": "code",
   "execution_count": 432,
   "id": "f9d4a261",
   "metadata": {},
   "outputs": [],
   "source": [
    "# Sorting the rules using wrt lift parameter\n",
    "\n",
    "rules_lift_sorted = rules_apriori.sort_values(by='lift', ascending=False)"
   ]
  },
  {
   "cell_type": "markdown",
   "id": "39222aa4",
   "metadata": {},
   "source": [
    "Task I: 10 points\n",
    "\n",
    "Understand this,\n",
    "- antecedent support: If X is called antecendent, 'antecedent support' computes the proportion of transactions that contain the antecedent X.\n",
    "- consequent support: If Y is called consequent, 'consequent support' computes the proportion of transactions that contain the antecedent Y.\n",
    "- support: 'support' computes the proportion of transactions that contain the antecedent X and Y.\n",
    "- confidence: Probability of buying Y when X is bought.\n",
    "- lift: Represents how many times the probability of getting Y increases when X is received.\n",
    "\n",
    "Define a function which takes the (sorted values from the association rules,a product name) and returns top recommendation list for that product name.\n",
    "\n",
    "Tip: the recommendated item are Consequents by matching the product antecedents as product to search for."
   ]
  },
  {
   "cell_type": "code",
   "execution_count": 341,
   "id": "a8072a2a",
   "metadata": {},
   "outputs": [],
   "source": [
    "# defining a function to provide recommendations with given product name and sorted list of rules\n",
    "# default is 5 recommendations\n",
    "\n",
    "def list_recommendation(rules_sorted, item_name, top_number=5):\n",
    "    recommendations = rules_sorted[rules_sorted['antecedents'].apply(lambda x: item_name in x)]\n",
    "    return recommendations.head(top_number)['consequents'].tolist()\n"
   ]
  },
  {
   "cell_type": "markdown",
   "id": "6a44a952",
   "metadata": {},
   "source": [
    "* The above function checks for the given product name in antecedents columns and gets the resultds from the copnsequent column if the given column is present."
   ]
  },
  {
   "cell_type": "markdown",
   "id": "386bdc61",
   "metadata": {},
   "source": [
    "### Task J: 5 points\n",
    "\n",
    "Print top 5 reccomendated items for product '22492'."
   ]
  },
  {
   "cell_type": "code",
   "execution_count": 342,
   "id": "d03702e4",
   "metadata": {},
   "outputs": [
    {
     "name": "stdout",
     "output_type": "stream",
     "text": [
      "The Top 5 reccomendend items for the product '22492':\n"
     ]
    },
    {
     "data": {
      "text/plain": [
       "[]"
      ]
     },
     "metadata": {},
     "output_type": "display_data"
    }
   ],
   "source": [
    "# getting the 5 top recommendations for the product using predefined fuction\n",
    "\n",
    "top5=list_recommendation(rules_lift_sorted,'22492')\n",
    "print(\"The Top 5 reccomendend items for the product '22492':\")\n",
    "display(top5)"
   ]
  },
  {
   "cell_type": "markdown",
   "id": "5fcd63c3",
   "metadata": {},
   "source": [
    "### Task K: 5 points\n",
    "\n",
    "Print top 5 reccomendated items for product '22492' with 0.02 support."
   ]
  },
  {
   "cell_type": "code",
   "execution_count": 344,
   "id": "98ab0731",
   "metadata": {},
   "outputs": [
    {
     "name": "stdout",
     "output_type": "stream",
     "text": [
      "The Top 5 reccomendend items for the product '22492' with 0.02 support:\n"
     ]
    },
    {
     "name": "stderr",
     "output_type": "stream",
     "text": [
      "C:\\Users\\devas\\AppData\\Local\\Packages\\PythonSoftwareFoundation.Python.3.11_qbz5n2kfra8p0\\LocalCache\\local-packages\\Python311\\site-packages\\mlxtend\\frequent_patterns\\fpcommon.py:109: DeprecationWarning: DataFrames with non-bool types result in worse computationalperformance and their support might be discontinued in the future.Please use a DataFrame with bool type\n",
      "  warnings.warn(\n"
     ]
    },
    {
     "data": {
      "text/plain": [
       "[]"
      ]
     },
     "metadata": {},
     "output_type": "display_data"
    }
   ],
   "source": [
    "# getting the 5 top recommendations for the product using predefined fuction but with support of 0.02\n",
    "\n",
    "# applying all the steps for apriori with 0.02 support \n",
    "frequent_itemsets_apriori2 = apriori(data_encoded, min_support=0.02, use_colnames=True)\n",
    "rules_apriori2 = association_rules(frequent_itemsets_apriori2, metric=\"support\", min_threshold=0.01)\n",
    "rules_lift_sorted2 = rules_apriori2.sort_values(by='lift', ascending=False)\n",
    "\n",
    "\n",
    "top_list=list_recommendation(rules_lift_sorted2,'22492')\n",
    "print(\"The Top 5 reccomendend items for the product '22492' with 0.02 support:\")\n",
    "display(top_list)\n"
   ]
  },
  {
   "cell_type": "markdown",
   "id": "5b2418c5",
   "metadata": {},
   "source": [
    "getting the 5 top recommendations for the product using predefined fuction but with support of 0.02\n",
    "\n",
    " applying all the steps for apriori with 0.02 support "
   ]
  },
  {
   "cell_type": "markdown",
   "id": "2b6b895d",
   "metadata": {},
   "source": [
    "### Task L: 10 points\n",
    "\n",
    "Perform task F through K except task I using FP-Growth algorithm."
   ]
  },
  {
   "cell_type": "code",
   "execution_count": 349,
   "id": "dc82b3af",
   "metadata": {},
   "outputs": [
    {
     "name": "stderr",
     "output_type": "stream",
     "text": [
      "C:\\Users\\devas\\AppData\\Local\\Packages\\PythonSoftwareFoundation.Python.3.11_qbz5n2kfra8p0\\LocalCache\\local-packages\\Python311\\site-packages\\mlxtend\\frequent_patterns\\fpcommon.py:109: DeprecationWarning: DataFrames with non-bool types result in worse computationalperformance and their support might be discontinued in the future.Please use a DataFrame with bool type\n",
      "  warnings.warn(\n"
     ]
    },
    {
     "data": {
      "text/html": [
       "<div>\n",
       "<style scoped>\n",
       "    .dataframe tbody tr th:only-of-type {\n",
       "        vertical-align: middle;\n",
       "    }\n",
       "\n",
       "    .dataframe tbody tr th {\n",
       "        vertical-align: top;\n",
       "    }\n",
       "\n",
       "    .dataframe thead th {\n",
       "        text-align: right;\n",
       "    }\n",
       "</style>\n",
       "<table border=\"1\" class=\"dataframe\">\n",
       "  <thead>\n",
       "    <tr style=\"text-align: right;\">\n",
       "      <th></th>\n",
       "      <th>antecedents</th>\n",
       "      <th>consequents</th>\n",
       "      <th>antecedent support</th>\n",
       "      <th>consequent support</th>\n",
       "      <th>support</th>\n",
       "      <th>confidence</th>\n",
       "      <th>lift</th>\n",
       "      <th>leverage</th>\n",
       "      <th>conviction</th>\n",
       "      <th>zhangs_metric</th>\n",
       "    </tr>\n",
       "  </thead>\n",
       "  <tbody>\n",
       "    <tr>\n",
       "      <th>0</th>\n",
       "      <td>(22244)</td>\n",
       "      <td>(22973)</td>\n",
       "      <td>0.055556</td>\n",
       "      <td>0.055556</td>\n",
       "      <td>0.055556</td>\n",
       "      <td>1.0</td>\n",
       "      <td>18.0</td>\n",
       "      <td>0.052469</td>\n",
       "      <td>inf</td>\n",
       "      <td>1.0</td>\n",
       "    </tr>\n",
       "    <tr>\n",
       "      <th>1</th>\n",
       "      <td>(22973)</td>\n",
       "      <td>(22244)</td>\n",
       "      <td>0.055556</td>\n",
       "      <td>0.055556</td>\n",
       "      <td>0.055556</td>\n",
       "      <td>1.0</td>\n",
       "      <td>18.0</td>\n",
       "      <td>0.052469</td>\n",
       "      <td>inf</td>\n",
       "      <td>1.0</td>\n",
       "    </tr>\n",
       "    <tr>\n",
       "      <th>2</th>\n",
       "      <td>(47421)</td>\n",
       "      <td>(22973)</td>\n",
       "      <td>0.055556</td>\n",
       "      <td>0.055556</td>\n",
       "      <td>0.055556</td>\n",
       "      <td>1.0</td>\n",
       "      <td>18.0</td>\n",
       "      <td>0.052469</td>\n",
       "      <td>inf</td>\n",
       "      <td>1.0</td>\n",
       "    </tr>\n",
       "    <tr>\n",
       "      <th>3</th>\n",
       "      <td>(22973)</td>\n",
       "      <td>(47421)</td>\n",
       "      <td>0.055556</td>\n",
       "      <td>0.055556</td>\n",
       "      <td>0.055556</td>\n",
       "      <td>1.0</td>\n",
       "      <td>18.0</td>\n",
       "      <td>0.052469</td>\n",
       "      <td>inf</td>\n",
       "      <td>1.0</td>\n",
       "    </tr>\n",
       "    <tr>\n",
       "      <th>4</th>\n",
       "      <td>(47421)</td>\n",
       "      <td>(22244)</td>\n",
       "      <td>0.055556</td>\n",
       "      <td>0.055556</td>\n",
       "      <td>0.055556</td>\n",
       "      <td>1.0</td>\n",
       "      <td>18.0</td>\n",
       "      <td>0.052469</td>\n",
       "      <td>inf</td>\n",
       "      <td>1.0</td>\n",
       "    </tr>\n",
       "  </tbody>\n",
       "</table>\n",
       "</div>"
      ],
      "text/plain": [
       "  antecedents consequents  antecedent support  consequent support   support  \\\n",
       "0     (22244)     (22973)            0.055556            0.055556  0.055556   \n",
       "1     (22973)     (22244)            0.055556            0.055556  0.055556   \n",
       "2     (47421)     (22973)            0.055556            0.055556  0.055556   \n",
       "3     (22973)     (47421)            0.055556            0.055556  0.055556   \n",
       "4     (47421)     (22244)            0.055556            0.055556  0.055556   \n",
       "\n",
       "   confidence  lift  leverage  conviction  zhangs_metric  \n",
       "0         1.0  18.0  0.052469         inf            1.0  \n",
       "1         1.0  18.0  0.052469         inf            1.0  \n",
       "2         1.0  18.0  0.052469         inf            1.0  \n",
       "3         1.0  18.0  0.052469         inf            1.0  \n",
       "4         1.0  18.0  0.052469         inf            1.0  "
      ]
     },
     "metadata": {},
     "output_type": "display_data"
    }
   ],
   "source": [
    "# Creating the frequent datasets with fpgrowth algorithm\n",
    "# and sorting the rules with respoect to lift \n",
    "\n",
    "from mlxtend.frequent_patterns import fpgrowth\n",
    "frequent_itemsets_fp = fpgrowth(data_encoded, min_support=0.01, use_colnames=True)\n",
    "\n",
    "rules_fp = association_rules(frequent_itemsets_fp, metric=\"support\", min_threshold=0.01)\n",
    "display(rules_fp.head())\n",
    "rules_sorted_fp = rules_fp.sort_values(by='lift', ascending=False)"
   ]
  },
  {
   "cell_type": "code",
   "execution_count": 350,
   "id": "c8b37bb7",
   "metadata": {},
   "outputs": [
    {
     "name": "stdout",
     "output_type": "stream",
     "text": [
      "\n",
      "The Top 5 reccomendend items for the product '22492':\n",
      "[]\n"
     ]
    }
   ],
   "source": [
    "# 5 top recommendations with fp growth and 0.01 support\n",
    "\n",
    "top_list_fp=list_recommendation(rules_sorted_fp,'22492')\n",
    "print(\"\\nThe Top 5 reccomendend items for the product '22492' using F-P growth:\")\n",
    "print(top_list_fp)"
   ]
  },
  {
   "cell_type": "code",
   "execution_count": 433,
   "id": "8164ee33",
   "metadata": {},
   "outputs": [
    {
     "name": "stderr",
     "output_type": "stream",
     "text": [
      "C:\\Users\\devas\\AppData\\Local\\Packages\\PythonSoftwareFoundation.Python.3.11_qbz5n2kfra8p0\\LocalCache\\local-packages\\Python311\\site-packages\\mlxtend\\frequent_patterns\\fpcommon.py:109: DeprecationWarning: DataFrames with non-bool types result in worse computationalperformance and their support might be discontinued in the future.Please use a DataFrame with bool type\n",
      "  warnings.warn(\n"
     ]
    }
   ],
   "source": [
    "# 5 top recommendations with fp growth with 0.02 support\n",
    "\n",
    "frequent_itemsets_fp2 = fpgrowth(data_encoded, min_support=0.02, use_colnames=True)\n",
    "\n",
    "rules_fp2 = association_rules(frequent_itemsets_fp, metric=\"support\", min_threshold=0.01)\n",
    "rules_sorted_fp2 = rules_fp.sort_values(by='lift', ascending=False)\n",
    "\n"
   ]
  },
  {
   "cell_type": "code",
   "execution_count": 353,
   "id": "1a3146eb",
   "metadata": {},
   "outputs": [
    {
     "name": "stdout",
     "output_type": "stream",
     "text": [
      "The Top 5 reccomendend items for the product '22492' using F-P growth: with 0.02 support:\n"
     ]
    },
    {
     "data": {
      "text/plain": [
       "[]"
      ]
     },
     "metadata": {},
     "output_type": "display_data"
    }
   ],
   "source": [
    "\n",
    "\n",
    "top_list_fp2=list_recommendation(rules_sorted_fp2,'22492')\n",
    "print(\"The Top 5 reccomendend items for the product '22492' using F-P growth: with 0.02 support:\")\n",
    "display(top_list_fp2)"
   ]
  },
  {
   "cell_type": "markdown",
   "id": "ec8ecc04",
   "metadata": {},
   "source": [
    "### Task M: 8 points\n",
    "\n",
    "Print Top 3 recommendations for below products using Apriori with 0.015 support\n",
    "- SET OF 4 PANTRY JELLY MOULDS\n",
    "- 3 HOOK HANGER MAGIC GARDEN\n",
    "- PACK OF 20 NAPKINS PANTRY DESIGN"
   ]
  },
  {
   "cell_type": "code",
   "execution_count": 359,
   "id": "d503e536",
   "metadata": {},
   "outputs": [
    {
     "name": "stdout",
     "output_type": "stream",
     "text": [
      "22993\n",
      "\n",
      "The Top 3 reccomendend items for the product SET OF 4 PANTRY JELLY MOULDS with 0.015 support using apriori:\n"
     ]
    },
    {
     "name": "stderr",
     "output_type": "stream",
     "text": [
      "C:\\Users\\devas\\AppData\\Local\\Packages\\PythonSoftwareFoundation.Python.3.11_qbz5n2kfra8p0\\LocalCache\\local-packages\\Python311\\site-packages\\mlxtend\\frequent_patterns\\fpcommon.py:109: DeprecationWarning: DataFrames with non-bool types result in worse computationalperformance and their support might be discontinued in the future.Please use a DataFrame with bool type\n",
      "  warnings.warn(\n"
     ]
    },
    {
     "data": {
      "text/plain": [
       "[]"
      ]
     },
     "metadata": {},
     "output_type": "display_data"
    },
    {
     "name": "stdout",
     "output_type": "stream",
     "text": [
      "22244\n",
      "\n",
      "The Top 3 reccomendend items for the product 3 HOOK HANGER MAGIC GARDEN with 0.015 support using apriori:\n"
     ]
    },
    {
     "name": "stderr",
     "output_type": "stream",
     "text": [
      "C:\\Users\\devas\\AppData\\Local\\Packages\\PythonSoftwareFoundation.Python.3.11_qbz5n2kfra8p0\\LocalCache\\local-packages\\Python311\\site-packages\\mlxtend\\frequent_patterns\\fpcommon.py:109: DeprecationWarning: DataFrames with non-bool types result in worse computationalperformance and their support might be discontinued in the future.Please use a DataFrame with bool type\n",
      "  warnings.warn(\n"
     ]
    },
    {
     "data": {
      "text/plain": [
       "[]"
      ]
     },
     "metadata": {},
     "output_type": "display_data"
    },
    {
     "name": "stdout",
     "output_type": "stream",
     "text": [
      "22907\n",
      "\n",
      "The Top 3 reccomendend items for the product PACK OF 20 NAPKINS PANTRY DESIGN with 0.015 support using apriori:\n"
     ]
    },
    {
     "name": "stderr",
     "output_type": "stream",
     "text": [
      "C:\\Users\\devas\\AppData\\Local\\Packages\\PythonSoftwareFoundation.Python.3.11_qbz5n2kfra8p0\\LocalCache\\local-packages\\Python311\\site-packages\\mlxtend\\frequent_patterns\\fpcommon.py:109: DeprecationWarning: DataFrames with non-bool types result in worse computationalperformance and their support might be discontinued in the future.Please use a DataFrame with bool type\n",
      "  warnings.warn(\n"
     ]
    },
    {
     "data": {
      "text/plain": [
       "[]"
      ]
     },
     "metadata": {},
     "output_type": "display_data"
    }
   ],
   "source": [
    "# providing the top 3 reccomendation for the given description products using aporiori and 0.015 support\n",
    "\n",
    "raw_data = pd.read_csv(\"Data_batch2.csv\", encoding= 'unicode_escape')\n",
    "\n",
    "\n",
    "for name in ['SET OF 4 PANTRY JELLY MOULDS', '3 HOOK HANGER MAGIC GARDEN' , 'PACK OF 20 NAPKINS PANTRY DESIGN']:\n",
    "    scode=raw_data[raw_data[\"Description\"]==name].iloc[0][\"StockCode\"]\n",
    "    frequent_itemsets_apriori_name = apriori(data_encoded, min_support=0.015, use_colnames=True)\n",
    "    rules_apriori_name = association_rules(frequent_itemsets_apriori_name, metric=\"support\", min_threshold=0.01)\n",
    "    rules_lift_sorted2_name = rules_apriori_name.sort_values(by='lift', ascending=False)\n",
    "\n",
    "\n",
    "    top_list_name=list_recommendation(rules_lift_sorted2,scode,3)\n",
    "    print(f\"\\nThe Top 3 reccomendend items for the product {name} with 0.015 support using apriori:\")\n",
    "    display(top_list)"
   ]
  },
  {
   "cell_type": "markdown",
   "id": "3dd3ce9f",
   "metadata": {},
   "source": [
    "### Task N: 8 points\n",
    "\n",
    "Print Top 3 recommendations for below products using FP-Growth algorithm with 0.015 support\n",
    "- COFFEE MUG PEARS  DESIGN\n",
    "- PLASTERS IN TIN WOODLAND ANIMALS\n",
    "- PACK OF 20 NAPKINS RED APPLES"
   ]
  },
  {
   "cell_type": "code",
   "execution_count": 426,
   "id": "39a1966a",
   "metadata": {},
   "outputs": [
    {
     "name": "stdout",
     "output_type": "stream",
     "text": [
      "\n",
      "The Top 3 reccomendend items for the product COFFEE MUG PEARS  DESIGN with 0.015 support using FP-Growth:\n"
     ]
    },
    {
     "name": "stderr",
     "output_type": "stream",
     "text": [
      "C:\\Users\\devas\\AppData\\Local\\Packages\\PythonSoftwareFoundation.Python.3.11_qbz5n2kfra8p0\\LocalCache\\local-packages\\Python311\\site-packages\\mlxtend\\frequent_patterns\\fpcommon.py:109: DeprecationWarning: DataFrames with non-bool types result in worse computationalperformance and their support might be discontinued in the future.Please use a DataFrame with bool type\n",
      "  warnings.warn(\n"
     ]
    },
    {
     "data": {
      "text/plain": [
       "[]"
      ]
     },
     "metadata": {},
     "output_type": "display_data"
    },
    {
     "name": "stdout",
     "output_type": "stream",
     "text": [
      "\n",
      "The Top 3 reccomendend items for the product PLASTERS IN TIN WOODLAND ANIMALS with 0.015 support using FP-Growth:\n"
     ]
    },
    {
     "name": "stderr",
     "output_type": "stream",
     "text": [
      "C:\\Users\\devas\\AppData\\Local\\Packages\\PythonSoftwareFoundation.Python.3.11_qbz5n2kfra8p0\\LocalCache\\local-packages\\Python311\\site-packages\\mlxtend\\frequent_patterns\\fpcommon.py:109: DeprecationWarning: DataFrames with non-bool types result in worse computationalperformance and their support might be discontinued in the future.Please use a DataFrame with bool type\n",
      "  warnings.warn(\n"
     ]
    },
    {
     "data": {
      "text/plain": [
       "[]"
      ]
     },
     "metadata": {},
     "output_type": "display_data"
    },
    {
     "name": "stdout",
     "output_type": "stream",
     "text": [
      "\n",
      "The Top 3 reccomendend items for the product PACK OF 20 NAPKINS RED APPLES with 0.015 support using FP-Growth:\n"
     ]
    },
    {
     "name": "stderr",
     "output_type": "stream",
     "text": [
      "C:\\Users\\devas\\AppData\\Local\\Packages\\PythonSoftwareFoundation.Python.3.11_qbz5n2kfra8p0\\LocalCache\\local-packages\\Python311\\site-packages\\mlxtend\\frequent_patterns\\fpcommon.py:109: DeprecationWarning: DataFrames with non-bool types result in worse computationalperformance and their support might be discontinued in the future.Please use a DataFrame with bool type\n",
      "  warnings.warn(\n"
     ]
    },
    {
     "data": {
      "text/plain": [
       "[]"
      ]
     },
     "metadata": {},
     "output_type": "display_data"
    }
   ],
   "source": [
    "# providing the top 3 reccomendation for the given description products using fp growth and 0.015 support\n",
    "for name in ['COFFEE MUG PEARS  DESIGN', 'PLASTERS IN TIN WOODLAND ANIMALS', 'PACK OF 20 NAPKINS RED APPLES']:\n",
    "    scode=raw_data[raw_data[\"Description\"]==name].iloc[0][\"StockCode\"]\n",
    "    frequent_itemsets_fp_name = fpgrowth(data_encoded, min_support=0.015, use_colnames=True)\n",
    "    rules_fp_name = association_rules(frequent_itemsets_fp_name, metric=\"support\", min_threshold=0.01)\n",
    "    rules_lift_fp_name = rules_fp_name.sort_values(by='lift', ascending=False)\n",
    "\n",
    "\n",
    "    top_list_fp_name=list_recommendation(rules_lift_fp_name,scode,3)\n",
    "    print(f\"\\nThe Top 3 reccomendend items for the product {name} with 0.015 support using FP-Growth:\")\n",
    "    display(top_list_fp_name)"
   ]
  },
  {
   "cell_type": "markdown",
   "id": "80d0b8c0",
   "metadata": {},
   "source": [
    "### Task O: 20 points\n",
    "\n",
    "Submit a document showing your solution for below problem.\n",
    "\n",
    "For the data on apriori image in the folder, apply apriori algorithm by\n",
    "\n",
    "- Computing the support for each individual item\n",
    "- Use 7 as the minimum support.\n",
    "- Generate Association Rules and compute confidence \n",
    "- use min confidence as 85%."
   ]
  },
  {
   "cell_type": "markdown",
   "id": "bc8c8d9f",
   "metadata": {},
   "source": [
    "### Programming Assignment Details\n",
    "\n",
    "1. If using any resource (books, internet), please make sure that you cite it within that cell.\n",
    "2. Do not rename the dataset_files."
   ]
  },
  {
   "cell_type": "markdown",
   "id": "e5ea28bf",
   "metadata": {},
   "source": [
    "###  Submission details\n",
    "Fill your name and ID in the jupyter notebook for each group member in the following format:\n",
    "\n",
    "1. First Student Name and ID: ABC 1001XXXXXX\n",
    "2. Second Student Name and ID: DEF 1002XXXXXX\n",
    "3. Third Student Name and ID: GHI 1003XXXXXX\n",
    "\n",
    "Name your submission files:\n",
    "\n",
    "yourLastName_Last4digitsofyourID.ipynb\n",
    "\n",
    "EG: abc_1234_def_5678_xyz3819_python.ipynb"
   ]
  },
  {
   "cell_type": "markdown",
   "id": "9ecd9370",
   "metadata": {},
   "source": [
    "### NOTE: Only one team member will submit the file."
   ]
  }
 ],
 "metadata": {
  "kernelspec": {
   "display_name": "Python 3 (ipykernel)",
   "language": "python",
   "name": "python3"
  },
  "language_info": {
   "codemirror_mode": {
    "name": "ipython",
    "version": 3
   },
   "file_extension": ".py",
   "mimetype": "text/x-python",
   "name": "python",
   "nbconvert_exporter": "python",
   "pygments_lexer": "ipython3",
   "version": "3.11.9"
  }
 },
 "nbformat": 4,
 "nbformat_minor": 5
}
